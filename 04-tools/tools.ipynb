{
 "cells": [
  {
   "cell_type": "code",
   "execution_count": 1,
   "id": "b9f24211",
   "metadata": {},
   "outputs": [
    {
     "data": {
      "text/plain": [
       "True"
      ]
     },
     "execution_count": 1,
     "metadata": {},
     "output_type": "execute_result"
    }
   ],
   "source": [
    "from langgraph.graph import StateGraph, START, END, MessagesState\n",
    "from langgraph.prebuilt import ToolNode\n",
    "from IPython.display import Image, display\n",
    "from langchain_core.prompts import ChatPromptTemplate\n",
    "from langchain_core.tools import tool\n",
    "from langchain_google_genai import ChatGoogleGenerativeAI\n",
    "from typing import TypedDict\n",
    "from dotenv import load_dotenv\n",
    "\n",
    "load_dotenv()"
   ]
  },
  {
   "cell_type": "code",
   "execution_count": 2,
   "id": "d1d56974",
   "metadata": {},
   "outputs": [],
   "source": [
    "prompt = ChatPromptTemplate.from_messages(\n",
    "    [\n",
    "        (\n",
    "            \"system\",\n",
    "            \"You are a helpful assistant that will help the user with their query. Your task is just to recommend products to the user. You've been provided with product recommendation tool. Keep your answer concise.\",\n",
    "        ),\n",
    "        (\"human\", \"{input}\"),\n",
    "    ]\n",
    ")"
   ]
  },
  {
   "cell_type": "code",
   "execution_count": 3,
   "id": "a6b285d4",
   "metadata": {},
   "outputs": [],
   "source": [
    "@tool\n",
    "def product_recommendation(product_category: str) -> str:\n",
    "    \"\"\"\n",
    "    Recommend products to the user based on product category.\n",
    "\n",
    "    Args: \n",
    "        product_category (str): categories like \"shirt\", \"jeans\", etc.\n",
    "\n",
    "    Returns:\n",
    "        str: Recommended products in the given category.\n",
    "    \"\"\"\n",
    "    recommendations = {\n",
    "        \"jeans\": [\n",
    "            \"Slim Fit Blue Jeans\",\n",
    "            \"Regular Fit Black Jeans\",\n",
    "            \"Distressed Denim Jeans\",\n",
    "            \"Tapered Fit Grey Jeans\"\n",
    "        ],\n",
    "        \"shirt\": [\n",
    "            \"Classic White Oxford Shirt\",\n",
    "            \"Casual Checked Shirt\",\n",
    "            \"Formal Blue Slim Fit Shirt\",\n",
    "            \"Denim Button-Down Shirt\"\n",
    "        ]\n",
    "    }\n",
    "\n",
    "    if product_category.lower() in recommendations:\n",
    "        product_list = recommendations[product_category.lower()]\n",
    "        return f\"Here are some recommended {product_category}s: \" + \", \".join(product_list)\n",
    "    else:\n",
    "        return f\"Sorry, we don’t have recommendations for '{product_category}' yet.\"\n"
   ]
  },
  {
   "cell_type": "code",
   "execution_count": 4,
   "id": "2cdc94f7",
   "metadata": {},
   "outputs": [],
   "source": [
    "model = ChatGoogleGenerativeAI(model = \"gemini-2.5-flash\", temperature = 0.1)\n",
    "\n",
    "tools = [product_recommendation]\n",
    "tool_node = ToolNode(tools)\n",
    "\n",
    "model_chain = prompt | model.bind_tools(tools=tools)"
   ]
  },
  {
   "cell_type": "code",
   "execution_count": 5,
   "id": "37853b96",
   "metadata": {},
   "outputs": [],
   "source": [
    "def ask_gemini(state: MessagesState):\n",
    "    messages = state[\"messages\"]\n",
    "    response = model_chain.invoke(messages)\n",
    "    return {\"messages\": [response]}\n",
    "\n",
    "def router(state: MessagesState):\n",
    "    message = state[\"messages\"]\n",
    "    last_message = message[-1]\n",
    "    if last_message.tool_calls:\n",
    "        return \"tools\"\n",
    "    return END\n",
    "\n",
    "workflow = StateGraph(MessagesState)\n",
    "\n",
    "workflow.add_node(\"ask_gemini\", ask_gemini)\n",
    "workflow.add_node(\"tools\", tool_node)\n",
    "\n",
    "workflow.add_edge(START, \"ask_gemini\")\n",
    "workflow.add_conditional_edges(\"ask_gemini\", router, [\"tools\", END])\n",
    "workflow.add_edge(\"tools\", \"ask_gemini\")\n",
    "\n",
    "graph_compile = workflow.compile()"
   ]
  },
  {
   "cell_type": "markdown",
   "id": "300ac65e",
   "metadata": {},
   "source": [
    "## Recommendation for Jeans"
   ]
  },
  {
   "cell_type": "code",
   "execution_count": 6,
   "id": "c6e5f33c",
   "metadata": {},
   "outputs": [],
   "source": [
    "response = graph_compile.invoke({\"messages\": \"can you recommend a jeans\"})"
   ]
  },
  {
   "cell_type": "code",
   "execution_count": 7,
   "id": "db08ff83",
   "metadata": {},
   "outputs": [
    {
     "data": {
      "text/plain": [
       "{'messages': [HumanMessage(content='can you recommend a jeans', additional_kwargs={}, response_metadata={}, id='c8ecc55d-0524-43f6-80c1-5a75beb21682'),\n",
       "  AIMessage(content='', additional_kwargs={'function_call': {'name': 'product_recommendation', 'arguments': '{\"product_category\": \"jeans\"}'}}, response_metadata={'prompt_feedback': {'block_reason': 0, 'safety_ratings': []}, 'finish_reason': 'STOP', 'model_name': 'gemini-2.5-flash', 'safety_ratings': []}, id='run--fcd6522e-c674-437c-8a53-0cc3f81b0b1d-0', tool_calls=[{'name': 'product_recommendation', 'args': {'product_category': 'jeans'}, 'id': 'a907a34f-2054-4fc6-98bf-002d1399468a', 'type': 'tool_call'}], usage_metadata={'input_tokens': 182, 'output_tokens': 64, 'total_tokens': 246, 'input_token_details': {'cache_read': 0}, 'output_token_details': {'reasoning': 45}}),\n",
       "  ToolMessage(content='Here are some recommended jeanss: Slim Fit Blue Jeans, Regular Fit Black Jeans, Distressed Denim Jeans, Tapered Fit Grey Jeans', name='product_recommendation', id='e5d1c774-ccd6-43bd-affa-49914398e05c', tool_call_id='a907a34f-2054-4fc6-98bf-002d1399468a'),\n",
       "  AIMessage(content='Here are some recommended jeans: Slim Fit Blue Jeans, Regular Fit Black Jeans, Distressed Denim Jeans, Tapered Fit Grey Jeans.', additional_kwargs={}, response_metadata={'prompt_feedback': {'block_reason': 0, 'safety_ratings': []}, 'finish_reason': 'STOP', 'model_name': 'gemini-2.5-flash', 'safety_ratings': []}, id='run--dfebaea5-cffb-4458-a03f-586260695d2e-0', usage_metadata={'input_tokens': 564, 'output_tokens': 96, 'total_tokens': 660, 'input_token_details': {'cache_read': 0}, 'output_token_details': {'reasoning': 68}})]}"
      ]
     },
     "execution_count": 7,
     "metadata": {},
     "output_type": "execute_result"
    }
   ],
   "source": [
    "response"
   ]
  },
  {
   "cell_type": "code",
   "execution_count": 8,
   "id": "eac4616d",
   "metadata": {},
   "outputs": [
    {
     "data": {
      "text/plain": [
       "'Here are some recommended jeans: Slim Fit Blue Jeans, Regular Fit Black Jeans, Distressed Denim Jeans, Tapered Fit Grey Jeans.'"
      ]
     },
     "execution_count": 8,
     "metadata": {},
     "output_type": "execute_result"
    }
   ],
   "source": [
    "response[\"messages\"][-1].content"
   ]
  },
  {
   "cell_type": "markdown",
   "id": "603fc244",
   "metadata": {},
   "source": [
    "## Recommendation for Shirt"
   ]
  },
  {
   "cell_type": "code",
   "execution_count": 9,
   "id": "d1cbb38a",
   "metadata": {},
   "outputs": [],
   "source": [
    "response = graph_compile.invoke({\"messages\": \"can you recommend a shirt\"})"
   ]
  },
  {
   "cell_type": "code",
   "execution_count": 10,
   "id": "c94b71d3",
   "metadata": {},
   "outputs": [
    {
     "data": {
      "text/plain": [
       "{'messages': [HumanMessage(content='can you recommend a shirt', additional_kwargs={}, response_metadata={}, id='065f3716-4450-4028-bd6b-2b76718433c9'),\n",
       "  AIMessage(content='', additional_kwargs={'function_call': {'name': 'product_recommendation', 'arguments': '{\"product_category\": \"shirt\"}'}}, response_metadata={'prompt_feedback': {'block_reason': 0, 'safety_ratings': []}, 'finish_reason': 'STOP', 'model_name': 'gemini-2.5-flash', 'safety_ratings': []}, id='run--53a5f7e9-07c8-4a91-8db2-64b4aca4e813-0', tool_calls=[{'name': 'product_recommendation', 'args': {'product_category': 'shirt'}, 'id': '18b861df-0ae6-4b36-b715-9363f08a8745', 'type': 'tool_call'}], usage_metadata={'input_tokens': 185, 'output_tokens': 98, 'total_tokens': 283, 'input_token_details': {'cache_read': 0}, 'output_token_details': {'reasoning': 80}}),\n",
       "  ToolMessage(content='Here are some recommended shirts: Classic White Oxford Shirt, Casual Checked Shirt, Formal Blue Slim Fit Shirt, Denim Button-Down Shirt', name='product_recommendation', id='3fca0ecc-c20c-4893-a7e9-c55974518579', tool_call_id='18b861df-0ae6-4b36-b715-9363f08a8745'),\n",
       "  AIMessage(content='Here are some recommended shirts: Classic White Oxford Shirt, Casual Checked Shirt, Formal Blue Slim Fit Shirt, Denim Button-Down Shirt.', additional_kwargs={}, response_metadata={'prompt_feedback': {'block_reason': 0, 'safety_ratings': []}, 'finish_reason': 'STOP', 'model_name': 'gemini-2.5-flash', 'safety_ratings': []}, id='run--25cd659c-a589-4b11-97f8-6680b3eba213-0', usage_metadata={'input_tokens': 565, 'output_tokens': 85, 'total_tokens': 650, 'input_token_details': {'cache_read': 0}, 'output_token_details': {'reasoning': 58}})]}"
      ]
     },
     "execution_count": 10,
     "metadata": {},
     "output_type": "execute_result"
    }
   ],
   "source": [
    "response"
   ]
  },
  {
   "cell_type": "code",
   "execution_count": 11,
   "id": "7367c5d1",
   "metadata": {},
   "outputs": [
    {
     "data": {
      "text/plain": [
       "'Here are some recommended shirts: Classic White Oxford Shirt, Casual Checked Shirt, Formal Blue Slim Fit Shirt, Denim Button-Down Shirt.'"
      ]
     },
     "execution_count": 11,
     "metadata": {},
     "output_type": "execute_result"
    }
   ],
   "source": [
    "response[\"messages\"][-1].content"
   ]
  },
  {
   "cell_type": "markdown",
   "id": "8179ccd5",
   "metadata": {},
   "source": [
    "## Casual conversation"
   ]
  },
  {
   "cell_type": "code",
   "execution_count": 12,
   "id": "623b5b25",
   "metadata": {},
   "outputs": [],
   "source": [
    "response = graph_compile.invoke({\"messages\": \"Hello, what is machine learning?\"})"
   ]
  },
  {
   "cell_type": "code",
   "execution_count": 13,
   "id": "585d1535",
   "metadata": {},
   "outputs": [
    {
     "data": {
      "text/plain": [
       "{'messages': [HumanMessage(content='Hello, what is machine learning?', additional_kwargs={}, response_metadata={}, id='56a215d7-6667-4522-84f8-954ac4546b38'),\n",
       "  AIMessage(content='I can only recommend products. What product category are you interested in?', additional_kwargs={}, response_metadata={'prompt_feedback': {'block_reason': 0, 'safety_ratings': []}, 'finish_reason': 'STOP', 'model_name': 'gemini-2.5-flash', 'safety_ratings': []}, id='run--3ff03f6c-3e20-4e40-85b1-b665581cb73a-0', usage_metadata={'input_tokens': 186, 'output_tokens': 98, 'total_tokens': 284, 'input_token_details': {'cache_read': 0}, 'output_token_details': {'reasoning': 84}})]}"
      ]
     },
     "execution_count": 13,
     "metadata": {},
     "output_type": "execute_result"
    }
   ],
   "source": [
    "response"
   ]
  },
  {
   "cell_type": "code",
   "execution_count": null,
   "id": "34c8f088",
   "metadata": {},
   "outputs": [],
   "source": [
    "response[\"messages\"][-1].content"
   ]
  }
 ],
 "metadata": {
  "kernelspec": {
   "display_name": "langgraph-project",
   "language": "python",
   "name": "python3"
  },
  "language_info": {
   "codemirror_mode": {
    "name": "ipython",
    "version": 3
   },
   "file_extension": ".py",
   "mimetype": "text/x-python",
   "name": "python",
   "nbconvert_exporter": "python",
   "pygments_lexer": "ipython3",
   "version": "3.12.11"
  }
 },
 "nbformat": 4,
 "nbformat_minor": 5
}
