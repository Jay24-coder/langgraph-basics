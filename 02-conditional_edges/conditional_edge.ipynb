{
 "cells": [
  {
   "cell_type": "code",
   "execution_count": null,
   "id": "f87946ea",
   "metadata": {},
   "outputs": [],
   "source": [
    "from langgraph.graph import StateGraph, START, END\n",
    "from typing import TypedDict"
   ]
  },
  {
   "cell_type": "code",
   "execution_count": null,
   "id": "7d56ec0c",
   "metadata": {},
   "outputs": [],
   "source": [
    "class Graphstate(TypedDict):\n",
    "    department: str\n",
    "    message: str"
   ]
  },
  {
   "cell_type": "code",
   "execution_count": null,
   "id": "f1ab066a",
   "metadata": {},
   "outputs": [],
   "source": [
    "def router(state: Graphstate):\n",
    "    department = state[\"department\"].lower()\n",
    "    if state[\"department\"] == department:\n",
    "        return \"transfer_to_devops\"\n",
    "    elif state[\"department\"] == department:\n",
    "        return \"transfer_to_hardware\"\n",
    "    \n",
    "def devops_department(state: Graphstate):\n",
    "    reply = f\"Reply to your message {state[\"message\"]}\\nI'll reply the \""
   ]
  }
 ],
 "metadata": {
  "kernelspec": {
   "display_name": "langgraph-project",
   "language": "python",
   "name": "python3"
  },
  "language_info": {
   "name": "python",
   "version": "3.12.11"
  }
 },
 "nbformat": 4,
 "nbformat_minor": 5
}
