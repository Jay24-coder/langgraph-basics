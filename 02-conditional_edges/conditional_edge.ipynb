{
 "cells": [
  {
   "cell_type": "code",
   "execution_count": 1,
   "id": "f87946ea",
   "metadata": {},
   "outputs": [],
   "source": [
    "from langgraph.graph import StateGraph, START, END\n",
    "from typing import TypedDict"
   ]
  },
  {
   "cell_type": "code",
   "execution_count": 2,
   "id": "7d56ec0c",
   "metadata": {},
   "outputs": [],
   "source": [
    "class Graphstate(TypedDict):\n",
    "    department: str\n",
    "    message: str\n",
    "    response: str"
   ]
  },
  {
   "cell_type": "code",
   "execution_count": 3,
   "id": "f1ab066a",
   "metadata": {},
   "outputs": [],
   "source": [
    "def router(state: Graphstate):\n",
    "    department = state[\"department\"].lower()\n",
    "    if department == \"devops\":\n",
    "        return \"devops_department\"\n",
    "    elif department == \"hardware\":\n",
    "        return \"hardware_department\"\n",
    "    \n",
    "def devops_department(state: Graphstate):\n",
    "    state[\"response\"] = (\n",
    "        f\"Thanks for reaching out regarding: '{state[\"message\"]}'.\\n\"\n",
    "        \"I've just received your request and will restart the Docker image now. \"\n",
    "        \"Once it's back up, I'll confirm that everything is running smoothly.\"\n",
    "    )\n",
    "    return state\n",
    "\n",
    "def hardware_department(state: Graphstate):\n",
    "    state[\"response\"] = (\n",
    "        f\"I've noted your message: '{state[\"message\"]}'.\\n\"\n",
    "        \"To assist you further, could you please let me know the available RAM on your PC? \"\n",
    "        \"This will help me diagnose the issue more accurately.\"\n",
    "    )\n",
    "    return state"
   ]
  },
  {
   "cell_type": "code",
   "execution_count": 4,
   "id": "0526cd34",
   "metadata": {},
   "outputs": [],
   "source": [
    "workflow = StateGraph(Graphstate)\n",
    "\n",
    "workflow.add_node(\"devops_department\", devops_department)\n",
    "workflow.add_node(\"hardware_department\", hardware_department)\n",
    "\n",
    "workflow.add_conditional_edges(START, router, [\"devops_department\", \"hardware_department\"])\n",
    "workflow.add_edge(\"devops_department\", END)\n",
    "workflow.add_edge(\"hardware_department\", END)\n",
    "\n",
    "graph_compile = workflow.compile()"
   ]
  },
  {
   "cell_type": "markdown",
   "id": "4efc2635",
   "metadata": {},
   "source": [
    "## For Hardware issue"
   ]
  },
  {
   "cell_type": "code",
   "execution_count": 5,
   "id": "b59fde87",
   "metadata": {},
   "outputs": [],
   "source": [
    "response = graph_compile.invoke(\n",
    "    {\n",
    "        \"department\": \"hardware\",\n",
    "        \"message\": \"Hey PowerBI is running really slow on my PC\",\n",
    "    }\n",
    ")"
   ]
  },
  {
   "cell_type": "code",
   "execution_count": 6,
   "id": "c070344f",
   "metadata": {},
   "outputs": [
    {
     "data": {
      "text/plain": [
       "{'department': 'hardware',\n",
       " 'message': 'Hey PowerBI is running really slow on my PC',\n",
       " 'response': \"I've noted your message: 'Hey PowerBI is running really slow on my PC'.\\nTo assist you further, could you please let me know the available RAM on your PC? This will help me diagnose the issue more accurately.\"}"
      ]
     },
     "execution_count": 6,
     "metadata": {},
     "output_type": "execute_result"
    }
   ],
   "source": [
    "response"
   ]
  },
  {
   "cell_type": "markdown",
   "id": "a97809f7",
   "metadata": {},
   "source": [
    "## For Devops issue"
   ]
  },
  {
   "cell_type": "code",
   "execution_count": 7,
   "id": "3bd41865",
   "metadata": {},
   "outputs": [],
   "source": [
    "response = graph_compile.invoke(\n",
    "    {\n",
    "        \"department\": \"devops\",\n",
    "        \"message\": \"Hey chatwoot is not working\",\n",
    "    }\n",
    ")"
   ]
  },
  {
   "cell_type": "code",
   "execution_count": 8,
   "id": "7b34f125",
   "metadata": {},
   "outputs": [
    {
     "data": {
      "text/plain": [
       "{'department': 'devops',\n",
       " 'message': 'Hey chatwoot is not working',\n",
       " 'response': \"Thanks for reaching out regarding: 'Hey chatwoot is not working'.\\nI've just received your request and will restart the Docker image now. Once it's back up, I'll confirm that everything is running smoothly.\"}"
      ]
     },
     "execution_count": 8,
     "metadata": {},
     "output_type": "execute_result"
    }
   ],
   "source": [
    "response"
   ]
  }
 ],
 "metadata": {
  "kernelspec": {
   "display_name": "langgraph-project",
   "language": "python",
   "name": "python3"
  },
  "language_info": {
   "codemirror_mode": {
    "name": "ipython",
    "version": 3
   },
   "file_extension": ".py",
   "mimetype": "text/x-python",
   "name": "python",
   "nbconvert_exporter": "python",
   "pygments_lexer": "ipython3",
   "version": "3.12.11"
  }
 },
 "nbformat": 4,
 "nbformat_minor": 5
}
