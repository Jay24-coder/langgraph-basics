{
 "cells": [
  {
   "cell_type": "code",
   "execution_count": 1,
   "id": "c3af90ab",
   "metadata": {},
   "outputs": [],
   "source": [
    "from langgraph.graph import START, END, StateGraph\n",
    "from IPython.display import Image, display\n",
    "from typing import TypedDict"
   ]
  },
  {
   "cell_type": "code",
   "execution_count": 2,
   "id": "b26995b7",
   "metadata": {},
   "outputs": [],
   "source": [
    "class GraphState(TypedDict):\n",
    "    message: str"
   ]
  },
  {
   "cell_type": "code",
   "execution_count": 3,
   "id": "8dcd4352",
   "metadata": {},
   "outputs": [],
   "source": [
    "def node_1(state):\n",
    "    state[\"message\"] = f\"User mesage: {state[\"message\"]}.\\nI have reached Node 1.\"\n",
    "    return state\n",
    "\n",
    "def node_2(state):\n",
    "    state[\"message\"] = f\"{state[\"message\"]}\\nAnd now I have reached Node 2. \\nAnd I'm exiting the graph\"\n",
    "    return state"
   ]
  },
  {
   "cell_type": "code",
   "execution_count": 4,
   "id": "197cf96d",
   "metadata": {},
   "outputs": [],
   "source": [
    "workflow = StateGraph(GraphState)\n",
    "\n",
    "workflow.add_node(\"node_1\", node_1)\n",
    "workflow.add_node(\"node_2\", node_2)\n",
    "\n",
    "workflow.add_edge(START, \"node_1\")\n",
    "workflow.add_edge(\"node_1\", \"node_2\")\n",
    "workflow.add_edge(\"node_2\", END)\n",
    "\n",
    "graph_compile = workflow.compile()"
   ]
  },
  {
   "cell_type": "code",
   "execution_count": 5,
   "id": "7b131c80",
   "metadata": {},
   "outputs": [
    {
     "data": {
      "image/png": "[encoded data removed]",
      "text/plain": [
       "<IPython.core.display.Image object>"
      ]
     },
     "metadata": {},
     "output_type": "display_data"
    }
   ],
   "source": [
    "display(Image(graph_compile.get_graph().draw_mermaid_png()))"
   ]
  },
  {
   "cell_type": "code",
   "execution_count": 6,
   "id": "b71f4726",
   "metadata": {},
   "outputs": [],
   "source": [
    "response = graph_compile.invoke({\"message\": \"Hello World\"})"
   ]
  },
  {
   "cell_type": "code",
   "execution_count": 7,
   "id": "53926715",
   "metadata": {},
   "outputs": [
    {
     "name": "stdout",
     "output_type": "stream",
     "text": [
      "User mesage: Hello World.\n",
      "I have reached Node 1.\n",
      "And now I have reached Node 2. \n",
      "And I'm exiting the graph\n"
     ]
    }
   ],
   "source": [
    "print(response[\"message\"])"
   ]
  }
 ],
 "metadata": {
  "kernelspec": {
   "display_name": "langgraph-project",
   "language": "python",
   "name": "python3"
  },
  "language_info": {
   "codemirror_mode": {
    "name": "ipython",
    "version": 3
   },
   "file_extension": ".py",
   "mimetype": "text/x-python",
   "name": "python",
   "nbconvert_exporter": "python",
   "pygments_lexer": "ipython3",
   "version": "3.12.11"
  }
 },
 "nbformat": 4,
 "nbformat_minor": 5
}
